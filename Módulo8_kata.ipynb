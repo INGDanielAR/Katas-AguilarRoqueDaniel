{
 "cells": [
  {
   "cell_type": "markdown",
   "metadata": {},
   "source": [
    "# Ejercicio 1"
   ]
  },
  {
   "cell_type": "code",
   "execution_count": 2,
   "metadata": {},
   "outputs": [],
   "source": [
    "planet= {\n",
    "    'name': 'mars',\n",
    "    'moons': 2\n",
    "}"
   ]
  },
  {
   "cell_type": "markdown",
   "metadata": {},
   "source": [
    "Recuperando los datos del diccionario"
   ]
  },
  {
   "cell_type": "code",
   "execution_count": 5,
   "metadata": {},
   "outputs": [
    {
     "name": "stdout",
     "output_type": "stream",
     "text": [
      "Nombre del planeta: mars\n",
      "Cantida de lunas que posee: 2\n"
     ]
    }
   ],
   "source": [
    "print(\"Nombre del planeta: \" + (planet.get('name')))\n",
    "print(\"Cantida de lunas que posee: \" + str(planet.get('moons')))"
   ]
  },
  {
   "cell_type": "markdown",
   "metadata": {},
   "source": [
    "Añadiendo las circunferencias"
   ]
  },
  {
   "cell_type": "code",
   "execution_count": 14,
   "metadata": {},
   "outputs": [
    {
     "name": "stdout",
     "output_type": "stream",
     "text": [
      "El planeta mars tiene una circunferencia polar de: 6752KM\n"
     ]
    }
   ],
   "source": [
    "planet['Circunferencia'] = {\n",
    "    'polar': 6752,\n",
    "    'equatorial': 6792\n",
    "}\n",
    "print(f'El planeta {planet[\"name\"]} tiene una circunferencia polar de: {planet[\"Circunferencia\"][\"polar\"]}KM')"
   ]
  },
  {
   "cell_type": "markdown",
   "metadata": {},
   "source": [
    "# Ejercico 2"
   ]
  },
  {
   "cell_type": "markdown",
   "metadata": {},
   "source": [
    "Creación de diccionario planet_moons"
   ]
  },
  {
   "cell_type": "code",
   "execution_count": 15,
   "metadata": {},
   "outputs": [],
   "source": [
    "planet_moons = {\n",
    "    'mercury': 0,\n",
    "    'venus': 0,\n",
    "    'earth': 1,\n",
    "    'mars': 2,\n",
    "    'jupiter': 79,\n",
    "    'saturn': 82,\n",
    "    'uranus': 27,\n",
    "    'neptune': 14,\n",
    "    'pluto': 5,\n",
    "    'haumea': 2,\n",
    "    'makemake': 1,\n",
    "    'eris': 1\n",
    "}"
   ]
  },
  {
   "cell_type": "code",
   "execution_count": 17,
   "metadata": {},
   "outputs": [],
   "source": [
    "moons = planet_moons.values()\n",
    "planets = len(planet_moons.keys())"
   ]
  },
  {
   "cell_type": "code",
   "execution_count": 21,
   "metadata": {},
   "outputs": [
    {
     "name": "stdout",
     "output_type": "stream",
     "text": [
      "Este es el número de planetas: 12 \n",
      "Este es el número de lunas: 214\n",
      "Este es el promedio de lunas: 17.833333333333332\n"
     ]
    }
   ],
   "source": [
    "Total_moons=0\n",
    "for a in moons:\n",
    "    Total_moons= Total_moons + a\n",
    "Promedio = Total_moons/planets\n",
    "print(\"\"\"Este es el número de planetas: {planeta} \n",
    "Este es el número de lunas: {lunas}\n",
    "Este es el promedio de lunas: {promedio}\"\"\".format(planeta=planets, lunas=Total_moons, promedio=Promedio))"
   ]
  }
 ],
 "metadata": {
  "interpreter": {
   "hash": "05e51b8f9518425477ad45b849c28aa244924caf6316ffa1a62d8c925e7e76a0"
  },
  "kernelspec": {
   "display_name": "Python 3.9.7 64-bit",
   "language": "python",
   "name": "python3"
  },
  "language_info": {
   "codemirror_mode": {
    "name": "ipython",
    "version": 3
   },
   "file_extension": ".py",
   "mimetype": "text/x-python",
   "name": "python",
   "nbconvert_exporter": "python",
   "pygments_lexer": "ipython3",
   "version": "3.9.7"
  },
  "orig_nbformat": 4
 },
 "nbformat": 4,
 "nbformat_minor": 2
}

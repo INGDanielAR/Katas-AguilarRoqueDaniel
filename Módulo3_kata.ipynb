{
 "cells": [
  {
   "cell_type": "markdown",
   "metadata": {},
   "source": [
    "# Problema 1"
   ]
  },
  {
   "cell_type": "code",
   "execution_count": null,
   "metadata": {},
   "outputs": [],
   "source": [
    "Vel_asteroide=49\n",
    "if vel_asteroide > 25:\n",
    "    print(\"¡Alerta! un asteroide se acerca peligrosamente\")\n",
    "elif vel_asteroide = 25:\n",
    "    print(\"Un asteroide se acerca a una velocidad peligrosa, permanecer atentos\")\n",
    "else:\n",
    "    print(\"Nada relevante que avisar, siga con su día :)\")"
   ]
  },
  {
   "cell_type": "markdown",
   "metadata": {},
   "source": [
    "# Problema 2"
   ]
  },
  {
   "cell_type": "code",
   "execution_count": 2,
   "metadata": {},
   "outputs": [
    {
     "name": "stdout",
     "output_type": "stream",
     "text": [
      "Nada relevante que avisar, siga con su día :)\n"
     ]
    }
   ],
   "source": [
    "Vel_asteroide=19\n",
    "if Vel_asteroide > 20:\n",
    "    print(\"Un asteroide se acerca a la tierra y ¡es visible en el cielo!\")\n",
    "elif Vel_asteroide == 20:\n",
    "    print(\"Un asteroide se acerca a la tierra y ¡podría ser visible en el cielo!\")\n",
    "else:\n",
    "    print(\"Nada relevante que avisar, siga con su día :)\")"
   ]
  },
  {
   "cell_type": "markdown",
   "metadata": {},
   "source": [
    "# Problema 3"
   ]
  },
  {
   "cell_type": "code",
   "execution_count": 17,
   "metadata": {},
   "outputs": [
    {
     "name": "stdout",
     "output_type": "stream",
     "text": [
      "Un asteroide se acerca a la tierra y será visible en el cielo, se cree que no causara daño\n"
     ]
    }
   ],
   "source": [
    "Vel_asteroide=22\n",
    "Tam_asteroide=40\n",
    "if Vel_asteroide > 25 and Tam_asteroide > 25:\n",
    "    print(\"¡Un asteroide se acerca peligrosamente y causara mucho daño en la tierra!\")\n",
    "elif Vel_asteroide == 25 and Tam_asteroide == 25:\n",
    "    print(\"¡Un asteroide se acerca peligrosamente a la tierra y su impacto causara un gran daño!\")\n",
    "elif Vel_asteroide > 25 and Tam_asteroide < 25:\n",
    "    print(\"Un asteroide se acerca peligrosamente a la tierra pero es poco probable que cause un gran daño\")\n",
    "elif (Vel_asteroide) < 25  and (Vel_asteroide > 20) and (Tam_asteroide < 1000):\n",
    "    print(\"Un asteroide se acerca a la tierra y será visible en el cielo, se cree que no causara daño\")\n",
    "elif (Vel_asteroide) < 25  and (Vel_asteroide > 20) and (Tam_asteroide > 1000):\n",
    "    print(\"Un asteroide se acerca a la tierra y será visible en el cielo, se cree que causara un enorme daño\")\n",
    "else:\n",
    "    print (\"Nada relevante que avisar, siga con su día :)\")\n"
   ]
  }
 ],
 "metadata": {
  "interpreter": {
   "hash": "05e51b8f9518425477ad45b849c28aa244924caf6316ffa1a62d8c925e7e76a0"
  },
  "kernelspec": {
   "display_name": "Python 3.9.7 64-bit",
   "language": "python",
   "name": "python3"
  },
  "language_info": {
   "codemirror_mode": {
    "name": "ipython",
    "version": 3
   },
   "file_extension": ".py",
   "mimetype": "text/x-python",
   "name": "python",
   "nbconvert_exporter": "python",
   "pygments_lexer": "ipython3",
   "version": "3.9.7"
  },
  "orig_nbformat": 4
 },
 "nbformat": 4,
 "nbformat_minor": 2
}

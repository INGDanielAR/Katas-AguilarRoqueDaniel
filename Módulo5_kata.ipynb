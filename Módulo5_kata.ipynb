{
 "cells": [
  {
   "cell_type": "markdown",
   "metadata": {},
   "source": [
    "# Ejercicio 1"
   ]
  },
  {
   "cell_type": "markdown",
   "metadata": {},
   "source": [
    "Variables de distancias de ambos planetas"
   ]
  },
  {
   "cell_type": "code",
   "execution_count": 21,
   "metadata": {},
   "outputs": [],
   "source": [
    "D_Tierra= 149597870\n",
    "D_Jupiter= 778547200"
   ]
  },
  {
   "cell_type": "markdown",
   "metadata": {},
   "source": [
    "Calculo de la distancia entre planetas"
   ]
  },
  {
   "cell_type": "code",
   "execution_count": 22,
   "metadata": {},
   "outputs": [
    {
     "name": "stdout",
     "output_type": "stream",
     "text": [
      "Esta es la distancia obtenida entre planetas en KM: 628949330\n",
      "Esta es la distancia obtenida entre planetas en millas: 390577533.93\n"
     ]
    }
   ],
   "source": [
    "D_planetas= (abs(D_Tierra - D_Jupiter))\n",
    "print(\"Esta es la distancia obtenida entre planetas en KM: \"+ str(D_planetas))\n",
    "print(\"Esta es la distancia obtenida entre planetas en millas: \"+ str(D_planetas*0.621))"
   ]
  },
  {
   "cell_type": "markdown",
   "metadata": {},
   "source": [
    "# Ejercicio 2"
   ]
  },
  {
   "cell_type": "markdown",
   "metadata": {},
   "source": [
    "Obtención de los valores de dos planetas:"
   ]
  },
  {
   "cell_type": "code",
   "execution_count": 26,
   "metadata": {},
   "outputs": [
    {
     "name": "stdout",
     "output_type": "stream",
     "text": [
      "\n",
      "El valor del planeta 1 es el siguiente: 57900000\n",
      "El valor del planeta 2 es el sigueinte: 108200000\n"
     ]
    }
   ],
   "source": [
    "Planeta1=input(\"Agrega la distancia del planeta 1:\")\n",
    "Planeta2=input(\"Agrega la distancia del planeta 2:\")\n",
    "print(\"\"\"\n",
    "El valor del planeta 1 es el siguiente: {Planeta1}\n",
    "El valor del planeta 2 es el sigueinte: {Planeta2}\"\"\".format(Planeta1=Planeta1,Planeta2=Planeta2))"
   ]
  },
  {
   "cell_type": "markdown",
   "metadata": {},
   "source": [
    "Conversion de datos, de str a int"
   ]
  },
  {
   "cell_type": "code",
   "execution_count": 27,
   "metadata": {},
   "outputs": [],
   "source": [
    "P1=int(Planeta1)\n",
    "P2=int(Planeta2)"
   ]
  },
  {
   "cell_type": "markdown",
   "metadata": {},
   "source": [
    "Operacion para conocer la distancia entre planetas"
   ]
  },
  {
   "cell_type": "code",
   "execution_count": 29,
   "metadata": {},
   "outputs": [
    {
     "name": "stdout",
     "output_type": "stream",
     "text": [
      "Está es la distancia entre los planetas en KM: 50300000\n",
      "Está es la distancia entre los planetas en Millas: 31236300.0\n"
     ]
    }
   ],
   "source": [
    "D_planetas=abs(P1-P2)\n",
    "millas=0.621\n",
    "print(\"Está es la distancia entre los planetas en KM: \" + str(D_planetas))\n",
    "print(\"Está es la distancia entre los planetas en Millas: \" + str(D_planetas*millas))"
   ]
  }
 ],
 "metadata": {
  "interpreter": {
   "hash": "05e51b8f9518425477ad45b849c28aa244924caf6316ffa1a62d8c925e7e76a0"
  },
  "kernelspec": {
   "display_name": "Python 3.9.7 64-bit",
   "language": "python",
   "name": "python3"
  },
  "language_info": {
   "codemirror_mode": {
    "name": "ipython",
    "version": 3
   },
   "file_extension": ".py",
   "mimetype": "text/x-python",
   "name": "python",
   "nbconvert_exporter": "python",
   "pygments_lexer": "ipython3",
   "version": "3.9.7"
  },
  "orig_nbformat": 4
 },
 "nbformat": 4,
 "nbformat_minor": 2
}

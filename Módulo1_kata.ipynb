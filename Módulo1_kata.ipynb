{
 "cells": [
  {
   "cell_type": "markdown",
   "metadata": {},
   "source": [
    "# Modulo 1 Kata"
   ]
  },
  {
   "cell_type": "markdown",
   "metadata": {},
   "source": [
    "Programa para la fecha de la nave"
   ]
  },
  {
   "cell_type": "code",
   "execution_count": 4,
   "metadata": {},
   "outputs": [
    {
     "name": "stdout",
     "output_type": "stream",
     "text": [
      "La fecha de hoy es: 2022-02-16\n"
     ]
    }
   ],
   "source": [
    "from datetime import date as dt\n",
    "print(\"La fecha de hoy es: \" + str(dt.today()))"
   ]
  },
  {
   "cell_type": "markdown",
   "metadata": {},
   "source": [
    "Programa convertidor de parsecs"
   ]
  },
  {
   "cell_type": "code",
   "execution_count": 7,
   "metadata": {},
   "outputs": [
    {
     "name": "stdout",
     "output_type": "stream",
     "text": [
      "11 parsec nos da un resultado en años luz de: 35.877159999999996\n"
     ]
    }
   ],
   "source": [
    "parsec_añosluz= 3.26156\n",
    "cantidad= input(\"Dame el valor a convertir en parsec: \")\n",
    "años_luz= int(cantidad)*parsec\n",
    "print(str(cantidad) + \" parsec nos da un resultado en años luz de: \" + str(años_luz))"
   ]
  }
 ],
 "metadata": {
  "interpreter": {
   "hash": "05e51b8f9518425477ad45b849c28aa244924caf6316ffa1a62d8c925e7e76a0"
  },
  "kernelspec": {
   "display_name": "Python 3.9.7 64-bit",
   "language": "python",
   "name": "python3"
  },
  "language_info": {
   "codemirror_mode": {
    "name": "ipython",
    "version": 3
   },
   "file_extension": ".py",
   "mimetype": "text/x-python",
   "name": "python",
   "nbconvert_exporter": "python",
   "pygments_lexer": "ipython3",
   "version": "3.9.7"
  },
  "orig_nbformat": 4
 },
 "nbformat": 4,
 "nbformat_minor": 2
}

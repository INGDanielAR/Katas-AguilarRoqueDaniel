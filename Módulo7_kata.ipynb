{
 "cells": [
  {
   "cell_type": "markdown",
   "metadata": {},
   "source": [
    "# Ejercicio 1"
   ]
  },
  {
   "cell_type": "code",
   "execution_count": 13,
   "metadata": {},
   "outputs": [],
   "source": [
    "new_planet=''\n",
    "planets=[]\n",
    "\n",
    "while new_planet!=\"done\":\n",
    "    if new_planet:\n",
    "        planets.append(new_planet)\n",
    "    new_planet=input(\"Ingresa tu planeta por favor (Si terminaste escribe 'done'): \")"
   ]
  },
  {
   "cell_type": "markdown",
   "metadata": {},
   "source": [
    "# Ejercicio 2"
   ]
  },
  {
   "cell_type": "code",
   "execution_count": 14,
   "metadata": {},
   "outputs": [
    {
     "name": "stdout",
     "output_type": "stream",
     "text": [
      "Estes es el planeta numero 1 de tu lista: Tierra\n",
      "Estes es el planeta numero 2 de tu lista: Marte\n",
      "Estes es el planeta numero 3 de tu lista: Venus\n",
      "Estes es el planeta numero 4 de tu lista: Mercurio\n",
      "Estes es el planeta numero 5 de tu lista: Jupiter\n",
      "Estes es el planeta numero 6 de tu lista: Saturno\n",
      "Estes es el planeta numero 7 de tu lista: Urano\n",
      "Estes es el planeta numero 8 de tu lista: Neptuno\n"
     ]
    }
   ],
   "source": [
    "i=0\n",
    "for p in planets:\n",
    "    i=i+1\n",
    "    print(\"Estes es el planeta numero \" + str(i) + \" de tu lista: \" + p)"
   ]
  }
 ],
 "metadata": {
  "interpreter": {
   "hash": "05e51b8f9518425477ad45b849c28aa244924caf6316ffa1a62d8c925e7e76a0"
  },
  "kernelspec": {
   "display_name": "Python 3.9.7 64-bit",
   "language": "python",
   "name": "python3"
  },
  "language_info": {
   "codemirror_mode": {
    "name": "ipython",
    "version": 3
   },
   "file_extension": ".py",
   "mimetype": "text/x-python",
   "name": "python",
   "nbconvert_exporter": "python",
   "pygments_lexer": "ipython3",
   "version": "3.9.7"
  },
  "orig_nbformat": 4
 },
 "nbformat": 4,
 "nbformat_minor": 2
}

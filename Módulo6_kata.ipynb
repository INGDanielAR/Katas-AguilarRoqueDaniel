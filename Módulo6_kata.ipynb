{
 "cells": [
  {
   "cell_type": "markdown",
   "metadata": {},
   "source": [
    "# Ejercicio 1"
   ]
  },
  {
   "cell_type": "markdown",
   "metadata": {},
   "source": [
    "Variable de los 8 planetas del sistema solar"
   ]
  },
  {
   "cell_type": "code",
   "execution_count": 128,
   "metadata": {},
   "outputs": [
    {
     "name": "stdout",
     "output_type": "stream",
     "text": [
      "El número de planetas del sistema solar es: 8\n"
     ]
    }
   ],
   "source": [
    "planets=['Mercury', 'Venus', 'Earth', 'Mars', 'Jupiter', 'Saturn', 'Uranus', 'Neptune']\n",
    "numberP=len(planets)\n",
    "print(\"El número de planetas del sistema solar es: \" + str(numberP))"
   ]
  },
  {
   "cell_type": "markdown",
   "metadata": {},
   "source": [
    "Agregando a plutón a la lista de los 8 planetas del sistema solar"
   ]
  },
  {
   "cell_type": "code",
   "execution_count": 130,
   "metadata": {},
   "outputs": [
    {
     "name": "stdout",
     "output_type": "stream",
     "text": [
      "El número de planetas contando a Pluton es: 9\n",
      "El último planeta de la lista es:Pluto\n"
     ]
    }
   ],
   "source": [
    "planets2=planets\n",
    "numberP2=len(planets2)  \n",
    "if (numberP2) >= 9:\n",
    "    planets2.pop()  \n",
    "    planets2.append('Pluto')\n",
    "elif(numberP2) == 8:\n",
    "    planets2.append('Pluto')\n",
    "numberP2=len(planets2)          # Se agrego este trozo de código para que unicamente fuera posible agregar un pluton\n",
    "print(\"El número de planetas contando a Pluton es: \" + str(numberP2))\n",
    "lastP=planets2[-1]\n",
    "print(\"El último planeta de la lista es:\" + lastP)"
   ]
  },
  {
   "cell_type": "markdown",
   "metadata": {},
   "source": [
    "# Ejercicio 2"
   ]
  },
  {
   "cell_type": "markdown",
   "metadata": {},
   "source": [
    "Agregando la lista planets"
   ]
  },
  {
   "cell_type": "code",
   "execution_count": 131,
   "metadata": {},
   "outputs": [],
   "source": [
    "planets = ['Mercury', 'Venus', 'Earth', 'Mars', 'Jupiter', 'Saturn', 'Neptune']"
   ]
  },
  {
   "cell_type": "markdown",
   "metadata": {},
   "source": [
    "Solicitamos que el usuario introduzca el nombre de un planeta"
   ]
  },
  {
   "cell_type": "code",
   "execution_count": 139,
   "metadata": {},
   "outputs": [],
   "source": [
    "Pedido=input(\"Dime el nombre de un planeta en inglés: \")"
   ]
  },
  {
   "cell_type": "markdown",
   "metadata": {},
   "source": [
    "Agregamos el index para la busqueda:"
   ]
  },
  {
   "cell_type": "code",
   "execution_count": 147,
   "metadata": {},
   "outputs": [
    {
     "name": "stdout",
     "output_type": "stream",
     "text": [
      "Estos son los planetas más cercanos al sol en la lista respecto a: Mercury\n",
      "[]\n",
      "Estos son los planetas más lejanos al sol en la lista respecto a: Mercury\n",
      "['Venus', 'Earth', 'Mars', 'Jupiter', 'Saturn', 'Neptune']\n"
     ]
    }
   ],
   "source": [
    "busqueda_planets=planets.index(Pedido)\n",
    "cercanos=planets[0:busqueda_planets]\n",
    "lejanos=planets[busqueda_planets+1:]\n",
    "print(\"Estos son los planetas más cercanos al sol en la lista respecto a: \" + Pedido)\n",
    "print(cercanos)\n",
    "print(\"Estos son los planetas más lejanos al sol en la lista respecto a: \" + Pedido)\n",
    "print(lejanos)"
   ]
  }
 ],
 "metadata": {
  "interpreter": {
   "hash": "05e51b8f9518425477ad45b849c28aa244924caf6316ffa1a62d8c925e7e76a0"
  },
  "kernelspec": {
   "display_name": "Python 3.9.7 64-bit",
   "language": "python",
   "name": "python3"
  },
  "language_info": {
   "codemirror_mode": {
    "name": "ipython",
    "version": 3
   },
   "file_extension": ".py",
   "mimetype": "text/x-python",
   "name": "python",
   "nbconvert_exporter": "python",
   "pygments_lexer": "ipython3",
   "version": "3.9.7"
  },
  "orig_nbformat": 4
 },
 "nbformat": 4,
 "nbformat_minor": 2
}

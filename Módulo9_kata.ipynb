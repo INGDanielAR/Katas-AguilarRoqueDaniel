{
 "cells": [
  {
   "cell_type": "markdown",
   "metadata": {},
   "source": [
    "# Ejercicio 1"
   ]
  },
  {
   "cell_type": "markdown",
   "metadata": {},
   "source": [
    "Definiendo la función"
   ]
  },
  {
   "cell_type": "code",
   "execution_count": 1,
   "metadata": {},
   "outputs": [],
   "source": [
    "def reporte_combustible(tanque1,tanque2,tanque3):\n",
    "    Promedio = (tanque1 + tanque2 + tanque3)/3\n",
    "    return f\"\"\"\n",
    "    Reporte del combustible:\n",
    "    tanque1: {tanque1} Lts\n",
    "    tanque2: {tanque2} Lts\n",
    "    tanque3: {tanque3} Lts\n",
    "    Promedio de los tanques: {Promedio} Lts\n",
    "    \"\"\"\n",
    "    \n"
   ]
  },
  {
   "cell_type": "markdown",
   "metadata": {},
   "source": [
    "Llamando a la función"
   ]
  },
  {
   "cell_type": "code",
   "execution_count": 2,
   "metadata": {},
   "outputs": [
    {
     "name": "stdout",
     "output_type": "stream",
     "text": [
      "\n",
      "    Reporte del combustible:\n",
      "    tanque1: 50 Lts\n",
      "    tanque2: 75 Lts\n",
      "    tanque3: 15 Lts\n",
      "    Promedio de los tanques: 46.666666666666664 Lts\n",
      "    \n"
     ]
    }
   ],
   "source": [
    "print(reporte_combustible(50, 75, 15))"
   ]
  },
  {
   "cell_type": "markdown",
   "metadata": {},
   "source": [
    "Creando la función promedio"
   ]
  },
  {
   "cell_type": "code",
   "execution_count": 22,
   "metadata": {},
   "outputs": [
    {
     "data": {
      "text/plain": [
       "'el promedio de los tanques es:  46.666666666666664 Lts'"
      ]
     },
     "execution_count": 22,
     "metadata": {},
     "output_type": "execute_result"
    }
   ],
   "source": [
    "def func_promedio(tanques):\n",
    "    suma = sum(tanques)\n",
    "    cantidad = len(tanques)\n",
    "    return  f'el promedio de los tanques es:  {suma / cantidad} Lts'\n",
    "\n",
    "func_promedio([50, 75, 15])"
   ]
  },
  {
   "cell_type": "markdown",
   "metadata": {},
   "source": [
    "Nueva función que llame a la función promedio"
   ]
  },
  {
   "cell_type": "code",
   "execution_count": 23,
   "metadata": {},
   "outputs": [
    {
     "name": "stdout",
     "output_type": "stream",
     "text": [
      "\n",
      "    Reporte del combustible:\n",
      "    tanque1: 50 Lts\n",
      "    tanque2: 75 Lts\n",
      "    tanque3: 15 Lts\n",
      "    el promedio de los tanques es:  46.666666666666664 Lts Lts\n",
      "    \n"
     ]
    }
   ],
   "source": [
    "def reporte_combustible(tanque1,tanque2,tanque3):\n",
    "    Promedio = (tanque1 + tanque2 + tanque3)/3\n",
    "    return f\"\"\"\n",
    "    Reporte del combustible:\n",
    "    tanque1: {tanque1} Lts\n",
    "    tanque2: {tanque2} Lts\n",
    "    tanque3: {tanque3} Lts\n",
    "    {func_promedio([tanque1, tanque2, tanque3])} Lts\n",
    "    \"\"\"\n",
    "print(reporte_combustible(50, 75, 15))"
   ]
  },
  {
   "cell_type": "markdown",
   "metadata": {},
   "source": [
    "# Ejercicio 2"
   ]
  },
  {
   "cell_type": "code",
   "execution_count": 28,
   "metadata": {},
   "outputs": [
    {
     "name": "stdout",
     "output_type": "stream",
     "text": [
      "\n",
      "    Destino elegido: Marte\n",
      "    Tiempo estimado de llegada: 30 minutos\n",
      "    Combustible total: 30 Lts\n",
      "    \n"
     ]
    }
   ],
   "source": [
    "def reporte_general(prelanzamiento,tiempo_de_vuelo,destino,tanquei,tanquee):\n",
    "    return f\"\"\"\n",
    "    Destino elegido: {destino}\n",
    "    Tiempo estimado de llegada: {prelanzamiento + tiempo_de_vuelo} minutos\n",
    "    Combustible total: {tanquei + tanquee} Lts\n",
    "    \"\"\"\n",
    "print(reporte_general(15,15,\"Marte\",15,15))"
   ]
  },
  {
   "cell_type": "code",
   "execution_count": 31,
   "metadata": {},
   "outputs": [
    {
     "name": "stdout",
     "output_type": "stream",
     "text": [
      "\n",
      "    Destino elegido: Marte\n",
      "    Tiempo estimado de llegada: 135 minutos\n",
      "    Combustible total: 52 Lts\n",
      "    \n"
     ]
    }
   ],
   "source": [
    "def reporte_general(destino,*minutes,**fuel_reservoirs):\n",
    "    return f\"\"\"\n",
    "    Destino elegido: {destino}\n",
    "    Tiempo estimado de llegada: {sum(minutes)} minutos\n",
    "    Combustible total: {sum(fuel_reservoirs.values())} Lts\n",
    "    \"\"\"\n",
    "print(reporte_general(\"Marte\",40,45,50, tanquea=10, tanqueb=30, tanquec=12))"
   ]
  },
  {
   "cell_type": "code",
   "execution_count": 34,
   "metadata": {},
   "outputs": [
    {
     "name": "stdout",
     "output_type": "stream",
     "text": [
      "\n",
      "    Destino elegido: Marte\n",
      "    Tiempo estimado de llegada: 135 minutos\n",
      "    Combustible total: 52 Lts\n",
      "    tanquea: 10 Lts tanqueb: 30 Lts tanquec: 12 Lts \n"
     ]
    }
   ],
   "source": [
    "def reporte_general(destino,*minutes,**fuel_reservoirs):\n",
    "    reporte_general= f\"\"\"\n",
    "    Destino elegido: {destino}\n",
    "    Tiempo estimado de llegada: {sum(minutes)} minutos\n",
    "    Combustible total: {sum(fuel_reservoirs.values())} Lts\n",
    "    \"\"\"\n",
    "    for tanquess, litros in fuel_reservoirs.items():\n",
    "        reporte_general += f'{tanquess}: {litros} Lts '\n",
    "    return reporte_general\n",
    "\n",
    "print(reporte_general(\"Marte\",40,45,50, tanquea=10, tanqueb=30, tanquec=12))"
   ]
  }
 ],
 "metadata": {
  "interpreter": {
   "hash": "05e51b8f9518425477ad45b849c28aa244924caf6316ffa1a62d8c925e7e76a0"
  },
  "kernelspec": {
   "display_name": "Python 3.9.7 64-bit",
   "language": "python",
   "name": "python3"
  },
  "language_info": {
   "codemirror_mode": {
    "name": "ipython",
    "version": 3
   },
   "file_extension": ".py",
   "mimetype": "text/x-python",
   "name": "python",
   "nbconvert_exporter": "python",
   "pygments_lexer": "ipython3",
   "version": "3.9.7"
  },
  "orig_nbformat": 4
 },
 "nbformat": 4,
 "nbformat_minor": 2
}
